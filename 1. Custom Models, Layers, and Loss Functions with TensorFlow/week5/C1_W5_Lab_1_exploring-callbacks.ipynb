{
 "cells": [
  {
   "cell_type": "markdown",
   "metadata": {
    "colab_type": "text",
    "id": "view-in-github"
   },
   "source": [
    "<a href=\"https://colab.research.google.com/github/https-deeplearning-ai/tensorflow-3-public/blob/main/Course%201%20-%20Custom%20Models%2C%20Layers%20and%20Loss%20Functions/Week%205%20-%20Callbacks/C1_W5_Lab_1_exploring-callbacks.ipynb\" target=\"_parent\"><img src=\"https://colab.research.google.com/assets/colab-badge.svg\" alt=\"Open In Colab\"/></a>"
   ]
  },
  {
   "cell_type": "markdown",
   "metadata": {
    "colab_type": "text",
    "id": "0c_TYhQOUe1j"
   },
   "source": [
    "# Ungraded Lab: Introduction to Keras callbacks\n",
    "\n",
    "In Keras, `Callback` is a Python class meant to be subclassed to provide specific functionality, with a set of methods called at various stages of training (including batch/epoch start and ends), testing, and predicting. Callbacks are useful to get a view on internal states and statistics of the model during training. The methods of the callbacks can  be called at different stages of training/evaluating/inference. Keras has available [callbacks](https://keras.io/api/callbacks/) and we'll show how you can use it in the following sections. Please click the **Open in Colab** badge above to complete this exercise in Colab. This will allow you to take advantage of the free GPU runtime (for faster training) and compatibility with all the packages needed in this notebook."
   ]
  },
  {
   "cell_type": "markdown",
   "metadata": {
    "colab_type": "text",
    "id": "Uyl69EyRQx-f"
   },
   "source": [
    "## Model methods that take callbacks\n",
    "Users can supply a list of callbacks to the following `tf.keras.Model` methods:\n",
    "* [`fit()`](https://www.tensorflow.org/versions/r2.0/api_docs/python/tf/keras/Model#fit), [`fit_generator()`](https://www.tensorflow.org/versions/r2.0/api_docs/python/tf/keras/Model#fit_generator)\n",
    "Trains the model for a fixed number of epochs (iterations over a dataset, or data yielded batch-by-batch by a Python generator).\n",
    "* [`evaluate()`](https://www.tensorflow.org/versions/r2.0/api_docs/python/tf/keras/Model#evaluate), [`evaluate_generator()`](https://www.tensorflow.org/versions/r2.0/api_docs/python/tf/keras/Model#evaluate_generator)\n",
    "Evaluates the model for given data or data generator. Outputs the loss and metric values from the evaluation.\n",
    "* [`predict()`](https://www.tensorflow.org/versions/r2.0/api_docs/python/tf/keras/Model#predict), [`predict_generator()`](https://www.tensorflow.org/versions/r2.0/api_docs/python/tf/keras/Model#predict_generator)\n",
    "Generates output predictions for the input data or data generator."
   ]
  },
  {
   "cell_type": "markdown",
   "metadata": {},
   "source": [
    "## Imports"
   ]
  },
  {
   "cell_type": "code",
   "execution_count": 1,
   "metadata": {
    "colab": {},
    "colab_type": "code",
    "id": "AlT1Kh3uA9lZ"
   },
   "outputs": [
    {
     "name": "stdout",
     "output_type": "stream",
     "text": [
      "Version:  2.1.0\n"
     ]
    }
   ],
   "source": [
    "from __future__ import absolute_import, division, print_function, unicode_literals\n",
    "\n",
    "try:\n",
    "    # %tensorflow_version only exists in Colab.\n",
    "    %tensorflow_version 2.x\n",
    "except Exception:\n",
    "    pass\n",
    "\n",
    "import tensorflow as tf\n",
    "import tensorflow_datasets as tfds\n",
    "import matplotlib.pyplot as plt\n",
    "import io\n",
    "from PIL import Image\n",
    "\n",
    "from tensorflow.keras.callbacks import TensorBoard, EarlyStopping, LearningRateScheduler, ModelCheckpoint, CSVLogger, ReduceLROnPlateau\n",
    "%load_ext tensorboard\n",
    "\n",
    "import os\n",
    "import matplotlib.pylab as plt\n",
    "import numpy as np\n",
    "import math\n",
    "import datetime\n",
    "import pandas as pd\n",
    "\n",
    "print(\"Version: \", tf.__version__)\n",
    "tf.get_logger().setLevel('INFO')"
   ]
  },
  {
   "cell_type": "markdown",
   "metadata": {
    "colab_type": "text",
    "id": "HnSljqtsXKfb"
   },
   "source": [
    "# Examples of Keras callback applications\n",
    "The following section will guide you through creating simple [Callback](https://keras.io/api/callbacks/) applications."
   ]
  },
  {
   "cell_type": "code",
   "execution_count": 2,
   "metadata": {
    "colab": {},
    "colab_type": "code",
    "id": "spskRuxvCYQE"
   },
   "outputs": [],
   "source": [
    "# Download and prepare the horses or humans dataset\n",
    "\n",
    "# horses_or_humans 3.0.0 has already been downloaded for you\n",
    "path = \"./tensorflow_datasets\"\n",
    "splits, info = tfds.load('horses_or_humans', data_dir=path, as_supervised=True, with_info=True, split=['train[:80%]', 'train[80%:]', 'test'])\n",
    "\n",
    "(train_examples, validation_examples, test_examples) = splits\n",
    "\n",
    "num_examples = info.splits['train'].num_examples\n",
    "num_classes = info.features['label'].num_classes"
   ]
  },
  {
   "cell_type": "code",
   "execution_count": 3,
   "metadata": {
    "colab": {},
    "colab_type": "code",
    "id": "veIsubKTCZsN"
   },
   "outputs": [],
   "source": [
    "SIZE = 150 #@param {type:\"slider\", min:64, max:300, step:1}\n",
    "IMAGE_SIZE = (SIZE, SIZE)"
   ]
  },
  {
   "cell_type": "code",
   "execution_count": 4,
   "metadata": {
    "colab": {},
    "colab_type": "code",
    "id": "faajLlErCb1S"
   },
   "outputs": [],
   "source": [
    "def format_image(image, label):\n",
    "  image = tf.image.resize(image, IMAGE_SIZE) / 255.0\n",
    "  return  image, label"
   ]
  },
  {
   "cell_type": "code",
   "execution_count": 5,
   "metadata": {
    "colab": {},
    "colab_type": "code",
    "id": "AVXPuU12Cdka"
   },
   "outputs": [],
   "source": [
    "BATCH_SIZE = 32 #@param {type:\"integer\"}"
   ]
  },
  {
   "cell_type": "code",
   "execution_count": 6,
   "metadata": {
    "colab": {},
    "colab_type": "code",
    "id": "0lHDkFVaCe48"
   },
   "outputs": [],
   "source": [
    "train_batches = train_examples.shuffle(num_examples // 4).map(format_image).batch(BATCH_SIZE).prefetch(1)\n",
    "validation_batches = validation_examples.map(format_image).batch(BATCH_SIZE).prefetch(1)\n",
    "test_batches = test_examples.map(format_image).batch(1)"
   ]
  },
  {
   "cell_type": "code",
   "execution_count": 7,
   "metadata": {
    "colab": {},
    "colab_type": "code",
    "id": "DxsCqEIkCgUt"
   },
   "outputs": [
    {
     "data": {
      "text/plain": [
       "TensorShape([32, 150, 150, 3])"
      ]
     },
     "execution_count": 7,
     "metadata": {},
     "output_type": "execute_result"
    }
   ],
   "source": [
    "for image_batch, label_batch in train_batches.take(1):\n",
    "  pass\n",
    "\n",
    "image_batch.shape"
   ]
  },
  {
   "cell_type": "code",
   "execution_count": 8,
   "metadata": {
    "colab": {},
    "colab_type": "code",
    "id": "iDBpWvHXCh2A"
   },
   "outputs": [],
   "source": [
    "def build_model(dense_units, input_shape=IMAGE_SIZE + (3,)):\n",
    "  model = tf.keras.models.Sequential([\n",
    "      tf.keras.layers.Conv2D(16, (3, 3), activation='relu', input_shape=input_shape),\n",
    "      tf.keras.layers.MaxPooling2D(2, 2),\n",
    "      tf.keras.layers.Conv2D(32, (3, 3), activation='relu'),\n",
    "      tf.keras.layers.MaxPooling2D(2, 2),\n",
    "      tf.keras.layers.Conv2D(64, (3, 3), activation='relu'),\n",
    "      tf.keras.layers.MaxPooling2D(2, 2),\n",
    "      tf.keras.layers.Flatten(),\n",
    "      tf.keras.layers.Dense(dense_units, activation='relu'),\n",
    "      tf.keras.layers.Dense(2, activation='softmax')\n",
    "  ])\n",
    "  return model"
   ]
  },
  {
   "cell_type": "markdown",
   "metadata": {
    "colab_type": "text",
    "id": "0ZKGkjagENSw"
   },
   "source": [
    "## [TensorBoard](https://keras.io/api/callbacks/tensorboard/)\n",
    "\n",
    "Enable visualizations for TensorBoard."
   ]
  },
  {
   "cell_type": "code",
   "execution_count": 9,
   "metadata": {
    "colab": {},
    "colab_type": "code",
    "id": "CeiD2WVEHbex"
   },
   "outputs": [],
   "source": [
    "!rm -rf logs"
   ]
  },
  {
   "cell_type": "code",
   "execution_count": 10,
   "metadata": {
    "colab": {},
    "colab_type": "code",
    "id": "PpLwPLnAEOzv"
   },
   "outputs": [
    {
     "name": "stdout",
     "output_type": "stream",
     "text": [
      "Epoch 1/10\n",
      "26/26 [==============================] - 21s 790ms/step - loss: 0.6795 - accuracy: 0.5426 - val_loss: 0.6600 - val_accuracy: 0.5659\n",
      "Epoch 2/10\n",
      "26/26 [==============================] - 20s 768ms/step - loss: 0.6219 - accuracy: 0.6484 - val_loss: 0.6277 - val_accuracy: 0.6049\n",
      "Epoch 3/10\n",
      "26/26 [==============================] - 19s 746ms/step - loss: 0.5637 - accuracy: 0.7226 - val_loss: 0.5877 - val_accuracy: 0.6341\n",
      "Epoch 4/10\n",
      "26/26 [==============================] - 19s 750ms/step - loss: 0.5467 - accuracy: 0.7324 - val_loss: 0.4935 - val_accuracy: 0.7707\n",
      "Epoch 5/10\n",
      "26/26 [==============================] - 19s 746ms/step - loss: 0.4807 - accuracy: 0.7725 - val_loss: 0.4467 - val_accuracy: 0.8049\n",
      "Epoch 6/10\n",
      "26/26 [==============================] - 20s 754ms/step - loss: 0.4484 - accuracy: 0.8139 - val_loss: 0.4136 - val_accuracy: 0.8293\n",
      "Epoch 7/10\n",
      "26/26 [==============================] - 20s 754ms/step - loss: 0.3761 - accuracy: 0.8540 - val_loss: 0.3599 - val_accuracy: 0.8878\n",
      "Epoch 8/10\n",
      "26/26 [==============================] - 20s 765ms/step - loss: 0.3801 - accuracy: 0.8285 - val_loss: 0.3112 - val_accuracy: 0.9073\n",
      "Epoch 9/10\n",
      "26/26 [==============================] - 20s 754ms/step - loss: 0.2883 - accuracy: 0.9063 - val_loss: 0.3828 - val_accuracy: 0.8488\n",
      "Epoch 10/10\n",
      "26/26 [==============================] - 20s 750ms/step - loss: 0.2586 - accuracy: 0.8942 - val_loss: 0.3654 - val_accuracy: 0.8488\n"
     ]
    },
    {
     "data": {
      "text/plain": [
       "<tensorflow.python.keras.callbacks.History at 0x7fc61c861d90>"
      ]
     },
     "execution_count": 10,
     "metadata": {},
     "output_type": "execute_result"
    }
   ],
   "source": [
    "model = build_model(dense_units=256)\n",
    "model.compile(\n",
    "    optimizer='sgd',\n",
    "    loss='sparse_categorical_crossentropy', \n",
    "    metrics=['accuracy'])\n",
    "  \n",
    "logdir = os.path.join(\"logs\", datetime.datetime.now().strftime(\"%Y%m%d-%H%M%S\"))\n",
    "tensorboard_callback = tf.keras.callbacks.TensorBoard(logdir)\n",
    "\n",
    "model.fit(train_batches, \n",
    "          epochs=10, \n",
    "          validation_data=validation_batches, \n",
    "          callbacks=[tensorboard_callback])"
   ]
  },
  {
   "cell_type": "code",
   "execution_count": 11,
   "metadata": {
    "colab": {},
    "colab_type": "code",
    "id": "iJunWOjZE0ir"
   },
   "outputs": [
    {
     "data": {
      "text/html": [
       "\n",
       "      <iframe id=\"tensorboard-frame-fc1be20e71b9080c\" width=\"100%\" height=\"800\" frameborder=\"0\">\n",
       "      </iframe>\n",
       "      <script>\n",
       "        (function() {\n",
       "          const frame = document.getElementById(\"tensorboard-frame-fc1be20e71b9080c\");\n",
       "          const url = new URL(\"/\", window.location);\n",
       "          url.port = 6006;\n",
       "          frame.src = url;\n",
       "        })();\n",
       "      </script>\n",
       "  "
      ],
      "text/plain": [
       "<IPython.core.display.HTML object>"
      ]
     },
     "metadata": {},
     "output_type": "display_data"
    }
   ],
   "source": [
    "%tensorboard --logdir logs"
   ]
  },
  {
   "cell_type": "markdown",
   "metadata": {
    "colab_type": "text",
    "id": "wv9H4Pc2Mfl7"
   },
   "source": [
    "## [Model Checkpoint](https://keras.io/api/callbacks/model_checkpoint/)\n",
    "\n",
    "Callback to save the Keras model or model weights at some frequency."
   ]
  },
  {
   "cell_type": "code",
   "execution_count": 12,
   "metadata": {
    "colab": {},
    "colab_type": "code",
    "id": "PYV4FJ8iMmDq"
   },
   "outputs": [
    {
     "name": "stdout",
     "output_type": "stream",
     "text": [
      "Epoch 1/5\n",
      "\n",
      "Epoch 00001: saving model to weights.01-0.68.h5\n",
      "26/26 - 20s - loss: 0.6736 - accuracy: 0.5827 - val_loss: 0.6813 - val_accuracy: 0.4878\n",
      "Epoch 2/5\n",
      "\n",
      "Epoch 00002: saving model to weights.02-0.71.h5\n",
      "26/26 - 20s - loss: 0.6238 - accuracy: 0.6910 - val_loss: 0.7055 - val_accuracy: 0.4976\n",
      "Epoch 3/5\n",
      "\n",
      "Epoch 00003: saving model to weights.03-0.55.h5\n",
      "26/26 - 20s - loss: 0.5797 - accuracy: 0.6837 - val_loss: 0.5542 - val_accuracy: 0.7512\n",
      "Epoch 4/5\n",
      "\n",
      "Epoch 00004: saving model to weights.04-0.47.h5\n",
      "26/26 - 20s - loss: 0.5290 - accuracy: 0.7506 - val_loss: 0.4684 - val_accuracy: 0.8829\n",
      "Epoch 5/5\n",
      "\n",
      "Epoch 00005: saving model to weights.05-0.40.h5\n",
      "26/26 - 20s - loss: 0.4918 - accuracy: 0.8212 - val_loss: 0.3964 - val_accuracy: 0.9073\n"
     ]
    },
    {
     "data": {
      "text/plain": [
       "<tensorflow.python.keras.callbacks.History at 0x7fc60ff88dd0>"
      ]
     },
     "execution_count": 12,
     "metadata": {},
     "output_type": "execute_result"
    }
   ],
   "source": [
    "model = build_model(dense_units=256)\n",
    "model.compile(\n",
    "    optimizer='sgd',\n",
    "    loss='sparse_categorical_crossentropy', \n",
    "    metrics=['accuracy'])\n",
    "  \n",
    "model.fit(train_batches, \n",
    "          epochs=5, \n",
    "          validation_data=validation_batches, \n",
    "          verbose=2,\n",
    "          callbacks=[ModelCheckpoint('weights.{epoch:02d}-{val_loss:.2f}.h5', verbose=1),\n",
    "          ])"
   ]
  },
  {
   "cell_type": "code",
   "execution_count": 13,
   "metadata": {
    "colab": {},
    "colab_type": "code",
    "id": "oGvjQ8IlMmK6"
   },
   "outputs": [
    {
     "name": "stdout",
     "output_type": "stream",
     "text": [
      "\n",
      "Epoch 00001: saving model to saved_model\n",
      "WARNING:tensorflow:From /opt/conda/lib/python3.7/site-packages/tensorflow_core/python/ops/resource_variable_ops.py:1786: calling BaseResourceVariable.__init__ (from tensorflow.python.ops.resource_variable_ops) with constraint is deprecated and will be removed in a future version.\n",
      "Instructions for updating:\n",
      "If using Keras pass *_constraint arguments to layers.\n"
     ]
    },
    {
     "name": "stderr",
     "output_type": "stream",
     "text": [
      "WARNING:tensorflow:From /opt/conda/lib/python3.7/site-packages/tensorflow_core/python/ops/resource_variable_ops.py:1786: calling BaseResourceVariable.__init__ (from tensorflow.python.ops.resource_variable_ops) with constraint is deprecated and will be removed in a future version.\n",
      "Instructions for updating:\n",
      "If using Keras pass *_constraint arguments to layers.\n"
     ]
    },
    {
     "name": "stdout",
     "output_type": "stream",
     "text": [
      "INFO:tensorflow:Assets written to: saved_model/assets\n"
     ]
    },
    {
     "name": "stderr",
     "output_type": "stream",
     "text": [
      "INFO:tensorflow:Assets written to: saved_model/assets\n"
     ]
    },
    {
     "name": "stdout",
     "output_type": "stream",
     "text": [
      "26/26 - 21s - loss: 0.6774 - accuracy: 0.5633 - val_loss: 0.7006 - val_accuracy: 0.4537\n"
     ]
    },
    {
     "data": {
      "text/plain": [
       "<tensorflow.python.keras.callbacks.History at 0x7fc60fe02dd0>"
      ]
     },
     "execution_count": 13,
     "metadata": {},
     "output_type": "execute_result"
    }
   ],
   "source": [
    "model = build_model(dense_units=256)\n",
    "model.compile(\n",
    "    optimizer='sgd',\n",
    "    loss='sparse_categorical_crossentropy', \n",
    "    metrics=['accuracy'])\n",
    "  \n",
    "model.fit(train_batches, \n",
    "          epochs=1, \n",
    "          validation_data=validation_batches, \n",
    "          verbose=2,\n",
    "          callbacks=[ModelCheckpoint('saved_model', verbose=1)\n",
    "          ])"
   ]
  },
  {
   "cell_type": "code",
   "execution_count": 14,
   "metadata": {
    "colab": {},
    "colab_type": "code",
    "id": "Y1ConwoB0EjD"
   },
   "outputs": [
    {
     "name": "stdout",
     "output_type": "stream",
     "text": [
      "Epoch 1/2\n",
      "\n",
      "Epoch 00001: saving model to model.h5\n",
      "26/26 - 20s - loss: 0.6797 - accuracy: 0.5876 - val_loss: 0.6779 - val_accuracy: 0.4537\n",
      "Epoch 2/2\n",
      "\n",
      "Epoch 00002: saving model to model.h5\n",
      "26/26 - 20s - loss: 0.6079 - accuracy: 0.6934 - val_loss: 0.5804 - val_accuracy: 0.7951\n"
     ]
    },
    {
     "data": {
      "text/plain": [
       "<tensorflow.python.keras.callbacks.History at 0x7fc60fce8690>"
      ]
     },
     "execution_count": 14,
     "metadata": {},
     "output_type": "execute_result"
    }
   ],
   "source": [
    "model = build_model(dense_units=256)\n",
    "model.compile(\n",
    "    optimizer='sgd',\n",
    "    loss='sparse_categorical_crossentropy', \n",
    "    metrics=['accuracy'])\n",
    "  \n",
    "model.fit(train_batches, \n",
    "          epochs=2, \n",
    "          validation_data=validation_batches, \n",
    "          verbose=2,\n",
    "          callbacks=[ModelCheckpoint('model.h5', verbose=1)\n",
    "          ])"
   ]
  },
  {
   "cell_type": "markdown",
   "metadata": {
    "colab_type": "text",
    "id": "kptNF0--Lznv"
   },
   "source": [
    "## [Early stopping](https://keras.io/api/callbacks/early_stopping/)\n",
    "\n",
    "Stop training when a monitored metric has stopped improving."
   ]
  },
  {
   "cell_type": "code",
   "execution_count": 15,
   "metadata": {
    "colab": {},
    "colab_type": "code",
    "id": "KJOJTJYdCkdY"
   },
   "outputs": [
    {
     "name": "stdout",
     "output_type": "stream",
     "text": [
      "Epoch 1/50\n",
      "26/26 - 20s - loss: 0.6772 - accuracy: 0.5669 - val_loss: 0.6655 - val_accuracy: 0.6732\n",
      "Epoch 2/50\n",
      "26/26 - 19s - loss: 0.6415 - accuracy: 0.6959 - val_loss: 0.6715 - val_accuracy: 0.4341\n",
      "Epoch 3/50\n",
      "26/26 - 20s - loss: 0.5965 - accuracy: 0.7117 - val_loss: 0.6743 - val_accuracy: 0.4585\n",
      "Epoch 4/50\n",
      "26/26 - 20s - loss: 0.5351 - accuracy: 0.7616 - val_loss: 0.4822 - val_accuracy: 0.8341\n",
      "Epoch 5/50\n",
      "26/26 - 20s - loss: 0.4762 - accuracy: 0.7871 - val_loss: 0.5195 - val_accuracy: 0.7415\n",
      "Epoch 6/50\n",
      "26/26 - 21s - loss: 0.4250 - accuracy: 0.8102 - val_loss: 0.3529 - val_accuracy: 0.8585\n",
      "Epoch 7/50\n",
      "26/26 - 20s - loss: 0.3637 - accuracy: 0.8528 - val_loss: 0.2842 - val_accuracy: 0.9073\n",
      "Epoch 8/50\n",
      "26/26 - 20s - loss: 0.3311 - accuracy: 0.8856 - val_loss: 0.2936 - val_accuracy: 0.8829\n",
      "Epoch 9/50\n",
      "26/26 - 21s - loss: 0.2608 - accuracy: 0.9088 - val_loss: 0.2221 - val_accuracy: 0.9073\n",
      "Epoch 10/50\n",
      "26/26 - 20s - loss: 0.2491 - accuracy: 0.9051 - val_loss: 0.1831 - val_accuracy: 0.9415\n",
      "Epoch 11/50\n",
      "26/26 - 20s - loss: 0.1856 - accuracy: 0.9440 - val_loss: 0.1639 - val_accuracy: 0.9610\n",
      "Epoch 12/50\n",
      "26/26 - 21s - loss: 0.1398 - accuracy: 0.9647 - val_loss: 0.2295 - val_accuracy: 0.9171\n",
      "Epoch 13/50\n",
      "26/26 - 21s - loss: 0.1475 - accuracy: 0.9513 - val_loss: 0.0971 - val_accuracy: 0.9902\n",
      "Epoch 14/50\n",
      "26/26 - 20s - loss: 0.0966 - accuracy: 0.9805 - val_loss: 0.1928 - val_accuracy: 0.9220\n",
      "Epoch 15/50\n",
      "26/26 - 20s - loss: 0.1005 - accuracy: 0.9696 - val_loss: 0.0946 - val_accuracy: 0.9756\n",
      "Epoch 16/50\n",
      "Restoring model weights from the end of the best epoch.\n",
      "26/26 - 20s - loss: 0.0693 - accuracy: 0.9866 - val_loss: 0.0973 - val_accuracy: 0.9707\n",
      "Epoch 00016: early stopping\n"
     ]
    },
    {
     "data": {
      "text/plain": [
       "<tensorflow.python.keras.callbacks.History at 0x7fc60fa47050>"
      ]
     },
     "execution_count": 15,
     "metadata": {},
     "output_type": "execute_result"
    }
   ],
   "source": [
    "model = build_model(dense_units=256)\n",
    "model.compile(\n",
    "    optimizer='sgd',\n",
    "    loss='sparse_categorical_crossentropy', \n",
    "    metrics=['accuracy'])\n",
    "  \n",
    "model.fit(train_batches, \n",
    "          epochs=50, \n",
    "          validation_data=validation_batches, \n",
    "          verbose=2,\n",
    "          callbacks=[EarlyStopping(\n",
    "              patience=3,\n",
    "              min_delta=0.05,\n",
    "              baseline=0.8,\n",
    "              mode='min',\n",
    "              monitor='val_loss',\n",
    "              restore_best_weights=True,\n",
    "              verbose=1)\n",
    "          ])"
   ]
  },
  {
   "cell_type": "markdown",
   "metadata": {
    "colab_type": "text",
    "id": "8mDzWUD4Pqq5"
   },
   "source": [
    "## [CSV Logger](https://keras.io/api/callbacks/csv_logger/)\n",
    "\n",
    "Callback that streams epoch results to a CSV file."
   ]
  },
  {
   "cell_type": "code",
   "execution_count": 16,
   "metadata": {
    "colab": {},
    "colab_type": "code",
    "id": "cffnMpmGPtMh"
   },
   "outputs": [
    {
     "name": "stdout",
     "output_type": "stream",
     "text": [
      "Epoch 1/5\n",
      "26/26 [==============================] - 22s 859ms/step - loss: 0.6588 - accuracy: 0.6046 - val_loss: 0.6432 - val_accuracy: 0.6000\n",
      "Epoch 2/5\n",
      "26/26 [==============================] - 20s 763ms/step - loss: 0.6130 - accuracy: 0.7007 - val_loss: 0.6150 - val_accuracy: 0.6488\n",
      "Epoch 3/5\n",
      "26/26 [==============================] - 21s 788ms/step - loss: 0.5556 - accuracy: 0.7336 - val_loss: 0.5353 - val_accuracy: 0.7707\n",
      "Epoch 4/5\n",
      "26/26 [==============================] - 20s 773ms/step - loss: 0.5014 - accuracy: 0.7786 - val_loss: 0.5461 - val_accuracy: 0.7122\n",
      "Epoch 5/5\n",
      "26/26 [==============================] - 20s 750ms/step - loss: 0.4492 - accuracy: 0.8005 - val_loss: 0.4136 - val_accuracy: 0.8098\n"
     ]
    },
    {
     "data": {
      "text/plain": [
       "<tensorflow.python.keras.callbacks.History at 0x7fc60f9bcc50>"
      ]
     },
     "execution_count": 16,
     "metadata": {},
     "output_type": "execute_result"
    }
   ],
   "source": [
    "model = build_model(dense_units=256)\n",
    "model.compile(\n",
    "    optimizer='sgd',\n",
    "    loss='sparse_categorical_crossentropy', \n",
    "    metrics=['accuracy'])\n",
    "  \n",
    "csv_file = 'training.csv'\n",
    "\n",
    "model.fit(train_batches, \n",
    "          epochs=5, \n",
    "          validation_data=validation_batches, \n",
    "          callbacks=[CSVLogger(csv_file)\n",
    "          ])"
   ]
  },
  {
   "cell_type": "code",
   "execution_count": 17,
   "metadata": {
    "colab": {},
    "colab_type": "code",
    "id": "B9tkYi03QV7R"
   },
   "outputs": [
    {
     "data": {
      "text/html": [
       "<div>\n",
       "<style scoped>\n",
       "    .dataframe tbody tr th:only-of-type {\n",
       "        vertical-align: middle;\n",
       "    }\n",
       "\n",
       "    .dataframe tbody tr th {\n",
       "        vertical-align: top;\n",
       "    }\n",
       "\n",
       "    .dataframe thead th {\n",
       "        text-align: right;\n",
       "    }\n",
       "</style>\n",
       "<table border=\"1\" class=\"dataframe\">\n",
       "  <thead>\n",
       "    <tr style=\"text-align: right;\">\n",
       "      <th></th>\n",
       "      <th>epoch</th>\n",
       "      <th>accuracy</th>\n",
       "      <th>loss</th>\n",
       "      <th>val_accuracy</th>\n",
       "      <th>val_loss</th>\n",
       "    </tr>\n",
       "  </thead>\n",
       "  <tbody>\n",
       "    <tr>\n",
       "      <th>0</th>\n",
       "      <td>0</td>\n",
       "      <td>0.604623</td>\n",
       "      <td>0.658831</td>\n",
       "      <td>0.600000</td>\n",
       "      <td>0.643174</td>\n",
       "    </tr>\n",
       "    <tr>\n",
       "      <th>1</th>\n",
       "      <td>1</td>\n",
       "      <td>0.700730</td>\n",
       "      <td>0.613141</td>\n",
       "      <td>0.648780</td>\n",
       "      <td>0.614971</td>\n",
       "    </tr>\n",
       "    <tr>\n",
       "      <th>2</th>\n",
       "      <td>2</td>\n",
       "      <td>0.733577</td>\n",
       "      <td>0.555935</td>\n",
       "      <td>0.770732</td>\n",
       "      <td>0.535295</td>\n",
       "    </tr>\n",
       "    <tr>\n",
       "      <th>3</th>\n",
       "      <td>3</td>\n",
       "      <td>0.778589</td>\n",
       "      <td>0.500741</td>\n",
       "      <td>0.712195</td>\n",
       "      <td>0.546051</td>\n",
       "    </tr>\n",
       "    <tr>\n",
       "      <th>4</th>\n",
       "      <td>4</td>\n",
       "      <td>0.800487</td>\n",
       "      <td>0.449275</td>\n",
       "      <td>0.809756</td>\n",
       "      <td>0.413609</td>\n",
       "    </tr>\n",
       "  </tbody>\n",
       "</table>\n",
       "</div>"
      ],
      "text/plain": [
       "   epoch  accuracy      loss  val_accuracy  val_loss\n",
       "0      0  0.604623  0.658831      0.600000  0.643174\n",
       "1      1  0.700730  0.613141      0.648780  0.614971\n",
       "2      2  0.733577  0.555935      0.770732  0.535295\n",
       "3      3  0.778589  0.500741      0.712195  0.546051\n",
       "4      4  0.800487  0.449275      0.809756  0.413609"
      ]
     },
     "execution_count": 17,
     "metadata": {},
     "output_type": "execute_result"
    }
   ],
   "source": [
    "pd.read_csv(csv_file).head()"
   ]
  },
  {
   "cell_type": "markdown",
   "metadata": {
    "colab_type": "text",
    "id": "Dt9C2Y9fRBKN"
   },
   "source": [
    "## [Learning Rate Scheduler](https://keras.io/api/callbacks/learning_rate_scheduler/)\n",
    "\n",
    "Updates the learning rate during training."
   ]
  },
  {
   "cell_type": "code",
   "execution_count": 18,
   "metadata": {
    "colab": {},
    "colab_type": "code",
    "id": "aJi-xY2VRC03"
   },
   "outputs": [
    {
     "name": "stdout",
     "output_type": "stream",
     "text": [
      "\n",
      "Epoch 00001: LearningRateScheduler reducing learning rate to 0.005.\n",
      "Epoch 1/5\n",
      "26/26 [==============================] - 37s 1s/step - loss: 0.6710 - accuracy: 0.6144 - val_loss: 0.6545 - val_accuracy: 0.5951\n",
      "\n",
      "Epoch 00002: LearningRateScheduler reducing learning rate to 0.0025.\n",
      "Epoch 2/5\n",
      "26/26 [==============================] - 21s 813ms/step - loss: 0.6434 - accuracy: 0.6995 - val_loss: 0.6455 - val_accuracy: 0.6878\n",
      "\n",
      "Epoch 00003: LearningRateScheduler reducing learning rate to 0.00125.\n",
      "Epoch 3/5\n",
      "26/26 [==============================] - 21s 821ms/step - loss: 0.6229 - accuracy: 0.7251 - val_loss: 0.6441 - val_accuracy: 0.6146\n",
      "\n",
      "Epoch 00004: LearningRateScheduler reducing learning rate to 0.000625.\n",
      "Epoch 4/5\n",
      "26/26 [==============================] - 21s 793ms/step - loss: 0.6140 - accuracy: 0.6922 - val_loss: 0.6282 - val_accuracy: 0.7659\n",
      "\n",
      "Epoch 00005: LearningRateScheduler reducing learning rate to 0.0003125.\n",
      "Epoch 5/5\n",
      "26/26 [==============================] - 21s 819ms/step - loss: 0.6099 - accuracy: 0.7591 - val_loss: 0.6320 - val_accuracy: 0.6585\n"
     ]
    },
    {
     "data": {
      "text/plain": [
       "<tensorflow.python.keras.callbacks.History at 0x7fc60d7eab90>"
      ]
     },
     "execution_count": 18,
     "metadata": {},
     "output_type": "execute_result"
    }
   ],
   "source": [
    "model = build_model(dense_units=256)\n",
    "model.compile(\n",
    "    optimizer='sgd',\n",
    "    loss='sparse_categorical_crossentropy', \n",
    "    metrics=['accuracy'])\n",
    "  \n",
    "def step_decay(epoch):\n",
    "\tinitial_lr = 0.01\n",
    "\tdrop = 0.5\n",
    "\tepochs_drop = 1\n",
    "\tlr = initial_lr * math.pow(drop, math.floor((1+epoch)/epochs_drop))\n",
    "\treturn lr\n",
    "\n",
    "model.fit(train_batches, \n",
    "          epochs=5, \n",
    "          validation_data=validation_batches, \n",
    "          callbacks=[LearningRateScheduler(step_decay, verbose=1),\n",
    "                    TensorBoard(log_dir='./log_dir')])"
   ]
  },
  {
   "cell_type": "code",
   "execution_count": 19,
   "metadata": {
    "colab": {},
    "colab_type": "code",
    "id": "M2S4n8nrbV91"
   },
   "outputs": [
    {
     "data": {
      "text/html": [
       "\n",
       "      <iframe id=\"tensorboard-frame-61e2bf4c15de81ed\" width=\"100%\" height=\"800\" frameborder=\"0\">\n",
       "      </iframe>\n",
       "      <script>\n",
       "        (function() {\n",
       "          const frame = document.getElementById(\"tensorboard-frame-61e2bf4c15de81ed\");\n",
       "          const url = new URL(\"/\", window.location);\n",
       "          url.port = 6007;\n",
       "          frame.src = url;\n",
       "        })();\n",
       "      </script>\n",
       "  "
      ],
      "text/plain": [
       "<IPython.core.display.HTML object>"
      ]
     },
     "metadata": {},
     "output_type": "display_data"
    }
   ],
   "source": [
    "%tensorboard --logdir log_dir"
   ]
  },
  {
   "cell_type": "markdown",
   "metadata": {
    "colab_type": "text",
    "id": "y0wcuQyJE_UK"
   },
   "source": [
    "## [ReduceLROnPlateau](https://keras.io/api/callbacks/reduce_lr_on_plateau/)\n",
    "\n",
    "Reduce learning rate when a metric has stopped improving."
   ]
  },
  {
   "cell_type": "code",
   "execution_count": 20,
   "metadata": {
    "colab": {},
    "colab_type": "code",
    "id": "4naxZ-eCFB27"
   },
   "outputs": [
    {
     "name": "stdout",
     "output_type": "stream",
     "text": [
      "Epoch 1/50\n",
      "26/26 [==============================] - 22s 836ms/step - loss: 0.6824 - accuracy: 0.5487 - val_loss: 0.6733 - val_accuracy: 0.5756\n",
      "Epoch 2/50\n",
      "26/26 [==============================] - 20s 772ms/step - loss: 0.6462 - accuracy: 0.6642 - val_loss: 0.6338 - val_accuracy: 0.6390\n",
      "Epoch 3/50\n",
      "26/26 [==============================] - 20s 773ms/step - loss: 0.6180 - accuracy: 0.7080 - val_loss: 0.5813 - val_accuracy: 0.7561\n",
      "Epoch 4/50\n",
      "26/26 [==============================] - 20s 774ms/step - loss: 0.5573 - accuracy: 0.7299 - val_loss: 0.5193 - val_accuracy: 0.7707\n",
      "Epoch 5/50\n",
      "26/26 [==============================] - 20s 777ms/step - loss: 0.5283 - accuracy: 0.7494 - val_loss: 0.5093 - val_accuracy: 0.7415\n",
      "Epoch 6/50\n",
      "26/26 [==============================] - 21s 796ms/step - loss: 0.4689 - accuracy: 0.7859 - val_loss: 0.4133 - val_accuracy: 0.8195\n",
      "Epoch 7/50\n",
      "26/26 [==============================] - 21s 827ms/step - loss: 0.4396 - accuracy: 0.7859 - val_loss: 0.3863 - val_accuracy: 0.8878\n",
      "Epoch 8/50\n",
      "25/26 [===========================>..] - ETA: 0s - loss: 0.3638 - accuracy: 0.8587\n",
      "Epoch 00008: ReduceLROnPlateau reducing learning rate to 0.0019999999552965165.\n",
      "26/26 [==============================] - 21s 823ms/step - loss: 0.3613 - accuracy: 0.8601 - val_loss: 0.4100 - val_accuracy: 0.8000\n",
      "Epoch 9/50\n",
      "26/26 [==============================] - 21s 815ms/step - loss: 0.3129 - accuracy: 0.8869 - val_loss: 0.2813 - val_accuracy: 0.8683\n",
      "Epoch 10/50\n",
      "26/26 [==============================] - 21s 806ms/step - loss: 0.2889 - accuracy: 0.9015 - val_loss: 0.2769 - val_accuracy: 0.8927\n",
      "Epoch 11/50\n",
      "26/26 [==============================] - 22s 844ms/step - loss: 0.2751 - accuracy: 0.9002 - val_loss: 0.2560 - val_accuracy: 0.8829\n",
      "Epoch 12/50\n",
      "26/26 [==============================] - 21s 815ms/step - loss: 0.2660 - accuracy: 0.9197 - val_loss: 0.2556 - val_accuracy: 0.9073\n",
      "Epoch 13/50\n",
      "26/26 [==============================] - 21s 808ms/step - loss: 0.2536 - accuracy: 0.9209 - val_loss: 0.2340 - val_accuracy: 0.9171\n",
      "Epoch 14/50\n",
      "25/26 [===========================>..] - ETA: 0s - loss: 0.2412 - accuracy: 0.9287\n",
      "Epoch 00014: ReduceLROnPlateau reducing learning rate to 0.001.\n",
      "26/26 [==============================] - 21s 815ms/step - loss: 0.2435 - accuracy: 0.9282 - val_loss: 0.2860 - val_accuracy: 0.9024\n",
      "Epoch 15/50\n",
      "26/26 [==============================] - 21s 804ms/step - loss: 0.2328 - accuracy: 0.9294 - val_loss: 0.2176 - val_accuracy: 0.9366\n",
      "Epoch 16/50\n",
      "25/26 [===========================>..] - ETA: 0s - loss: 0.2232 - accuracy: 0.9388\n",
      "Epoch 00016: ReduceLROnPlateau reducing learning rate to 0.001.\n",
      "26/26 [==============================] - 20s 773ms/step - loss: 0.2253 - accuracy: 0.9392 - val_loss: 0.2281 - val_accuracy: 0.9171\n",
      "Epoch 17/50\n",
      "26/26 [==============================] - 20s 777ms/step - loss: 0.2188 - accuracy: 0.9380 - val_loss: 0.2153 - val_accuracy: 0.9220\n",
      "Epoch 18/50\n",
      "26/26 [==============================] - 20s 777ms/step - loss: 0.2131 - accuracy: 0.9380 - val_loss: 0.2137 - val_accuracy: 0.9171\n",
      "Epoch 19/50\n",
      "26/26 [==============================] - 20s 767ms/step - loss: 0.2076 - accuracy: 0.9404 - val_loss: 0.2078 - val_accuracy: 0.9220\n",
      "Epoch 20/50\n",
      "25/26 [===========================>..] - ETA: 0s - loss: 0.2041 - accuracy: 0.9488\n",
      "Epoch 00020: ReduceLROnPlateau reducing learning rate to 0.001.\n",
      "26/26 [==============================] - 21s 795ms/step - loss: 0.2015 - accuracy: 0.9501 - val_loss: 0.2186 - val_accuracy: 0.9171\n",
      "Epoch 21/50\n",
      "26/26 [==============================] - 20s 780ms/step - loss: 0.1966 - accuracy: 0.9440 - val_loss: 0.1916 - val_accuracy: 0.9415\n",
      "Epoch 22/50\n",
      "25/26 [===========================>..] - ETA: 0s - loss: 0.1920 - accuracy: 0.9513\n",
      "Epoch 00022: ReduceLROnPlateau reducing learning rate to 0.001.\n",
      "26/26 [==============================] - 20s 777ms/step - loss: 0.1954 - accuracy: 0.9501 - val_loss: 0.1920 - val_accuracy: 0.9415\n",
      "Epoch 23/50\n",
      "26/26 [==============================] - 21s 789ms/step - loss: 0.1881 - accuracy: 0.9489 - val_loss: 0.1864 - val_accuracy: 0.9463\n",
      "Epoch 24/50\n",
      "26/26 [==============================] - 21s 789ms/step - loss: 0.1829 - accuracy: 0.9550 - val_loss: 0.1801 - val_accuracy: 0.9463\n",
      "Epoch 25/50\n",
      "26/26 [==============================] - 20s 773ms/step - loss: 0.1787 - accuracy: 0.9586 - val_loss: 0.1723 - val_accuracy: 0.9512\n",
      "Epoch 26/50\n",
      "25/26 [===========================>..] - ETA: 0s - loss: 0.1748 - accuracy: 0.9538\n",
      "Epoch 00026: ReduceLROnPlateau reducing learning rate to 0.001.\n",
      "26/26 [==============================] - 20s 774ms/step - loss: 0.1746 - accuracy: 0.9538 - val_loss: 0.1725 - val_accuracy: 0.9463\n",
      "Epoch 27/50\n",
      "25/26 [===========================>..] - ETA: 0s - loss: 0.1690 - accuracy: 0.9550\n",
      "Epoch 00027: ReduceLROnPlateau reducing learning rate to 0.001.\n",
      "26/26 [==============================] - 21s 798ms/step - loss: 0.1695 - accuracy: 0.9538 - val_loss: 0.1778 - val_accuracy: 0.9415\n",
      "Epoch 28/50\n",
      "25/26 [===========================>..] - ETA: 0s - loss: 0.1666 - accuracy: 0.9625\n",
      "Epoch 00028: ReduceLROnPlateau reducing learning rate to 0.001.\n",
      "26/26 [==============================] - 20s 767ms/step - loss: 0.1662 - accuracy: 0.9635 - val_loss: 0.1805 - val_accuracy: 0.9317\n",
      "Epoch 29/50\n",
      "26/26 [==============================] - 20s 752ms/step - loss: 0.1619 - accuracy: 0.9599 - val_loss: 0.1652 - val_accuracy: 0.9463\n",
      "Epoch 30/50\n",
      "26/26 [==============================] - 20s 757ms/step - loss: 0.1568 - accuracy: 0.9647 - val_loss: 0.1573 - val_accuracy: 0.9561\n",
      "Epoch 31/50\n",
      "26/26 [==============================] - 20s 777ms/step - loss: 0.1537 - accuracy: 0.9659 - val_loss: 0.1544 - val_accuracy: 0.9561\n",
      "Epoch 32/50\n",
      "26/26 [==============================] - 20s 770ms/step - loss: 0.1529 - accuracy: 0.9672 - val_loss: 0.1486 - val_accuracy: 0.9610\n",
      "Epoch 33/50\n",
      "25/26 [===========================>..] - ETA: 0s - loss: 0.1477 - accuracy: 0.9725\n",
      "Epoch 00033: ReduceLROnPlateau reducing learning rate to 0.001.\n",
      "26/26 [==============================] - 20s 776ms/step - loss: 0.1464 - accuracy: 0.9720 - val_loss: 0.1555 - val_accuracy: 0.9463\n",
      "Epoch 34/50\n",
      "25/26 [===========================>..] - ETA: 0s - loss: 0.1426 - accuracy: 0.9762\n",
      "Epoch 00034: ReduceLROnPlateau reducing learning rate to 0.001.\n",
      "26/26 [==============================] - 20s 765ms/step - loss: 0.1432 - accuracy: 0.9745 - val_loss: 0.1574 - val_accuracy: 0.9463\n",
      "Epoch 35/50\n",
      "26/26 [==============================] - 20s 754ms/step - loss: 0.1396 - accuracy: 0.9732 - val_loss: 0.1420 - val_accuracy: 0.9610\n",
      "Epoch 36/50\n",
      "25/26 [===========================>..] - ETA: 0s - loss: 0.1357 - accuracy: 0.9762\n",
      "Epoch 00036: ReduceLROnPlateau reducing learning rate to 0.001.\n",
      "26/26 [==============================] - 20s 777ms/step - loss: 0.1354 - accuracy: 0.9769 - val_loss: 0.1579 - val_accuracy: 0.9415\n",
      "Epoch 37/50\n",
      "26/26 [==============================] - 19s 750ms/step - loss: 0.1355 - accuracy: 0.9757 - val_loss: 0.1395 - val_accuracy: 0.9561\n",
      "Epoch 38/50\n",
      "26/26 [==============================] - 20s 777ms/step - loss: 0.1311 - accuracy: 0.9732 - val_loss: 0.1334 - val_accuracy: 0.9610\n",
      "Epoch 39/50\n",
      "25/26 [===========================>..] - ETA: 0s - loss: 0.1286 - accuracy: 0.9762\n",
      "Epoch 00039: ReduceLROnPlateau reducing learning rate to 0.001.\n",
      "26/26 [==============================] - 20s 751ms/step - loss: 0.1275 - accuracy: 0.9769 - val_loss: 0.1380 - val_accuracy: 0.9561\n",
      "Epoch 40/50\n",
      "26/26 [==============================] - 20s 773ms/step - loss: 0.1253 - accuracy: 0.9793 - val_loss: 0.1299 - val_accuracy: 0.9610\n",
      "Epoch 41/50\n",
      "25/26 [===========================>..] - ETA: 0s - loss: 0.1185 - accuracy: 0.9787\n",
      "Epoch 00041: ReduceLROnPlateau reducing learning rate to 0.001.\n",
      "26/26 [==============================] - 20s 754ms/step - loss: 0.1223 - accuracy: 0.9781 - val_loss: 0.1405 - val_accuracy: 0.9463\n",
      "Epoch 42/50\n",
      "25/26 [===========================>..] - ETA: 0s - loss: 0.1202 - accuracy: 0.9800\n",
      "Epoch 00042: ReduceLROnPlateau reducing learning rate to 0.001.\n",
      "26/26 [==============================] - 20s 777ms/step - loss: 0.1189 - accuracy: 0.9805 - val_loss: 0.1346 - val_accuracy: 0.9512\n",
      "Epoch 43/50\n",
      "26/26 [==============================] - 20s 770ms/step - loss: 0.1179 - accuracy: 0.9805 - val_loss: 0.1260 - val_accuracy: 0.9610\n",
      "Epoch 44/50\n",
      "26/26 [==============================] - 21s 799ms/step - loss: 0.1155 - accuracy: 0.9818 - val_loss: 0.1215 - val_accuracy: 0.9610\n",
      "Epoch 45/50\n",
      "25/26 [===========================>..] - ETA: 0s - loss: 0.1085 - accuracy: 0.9800\n",
      "Epoch 00045: ReduceLROnPlateau reducing learning rate to 0.001.\n",
      "26/26 [==============================] - 20s 761ms/step - loss: 0.1111 - accuracy: 0.9793 - val_loss: 0.1276 - val_accuracy: 0.9707\n",
      "Epoch 46/50\n",
      "26/26 [==============================] - 20s 769ms/step - loss: 0.1107 - accuracy: 0.9830 - val_loss: 0.1173 - val_accuracy: 0.9610\n",
      "Epoch 47/50\n",
      "26/26 [==============================] - 20s 773ms/step - loss: 0.1074 - accuracy: 0.9854 - val_loss: 0.1155 - val_accuracy: 0.9707\n",
      "Epoch 48/50\n",
      "25/26 [===========================>..] - ETA: 0s - loss: 0.1061 - accuracy: 0.9837\n",
      "Epoch 00048: ReduceLROnPlateau reducing learning rate to 0.001.\n",
      "26/26 [==============================] - 19s 750ms/step - loss: 0.1040 - accuracy: 0.9842 - val_loss: 0.1235 - val_accuracy: 0.9561\n",
      "Epoch 49/50\n",
      "25/26 [===========================>..] - ETA: 0s - loss: 0.1034 - accuracy: 0.9837\n",
      "Epoch 00049: ReduceLROnPlateau reducing learning rate to 0.001.\n",
      "26/26 [==============================] - 21s 792ms/step - loss: 0.1025 - accuracy: 0.9842 - val_loss: 0.1187 - val_accuracy: 0.9512\n",
      "Epoch 50/50\n",
      "25/26 [===========================>..] - ETA: 0s - loss: 0.0996 - accuracy: 0.9862\n",
      "Epoch 00050: ReduceLROnPlateau reducing learning rate to 0.001.\n",
      "26/26 [==============================] - 21s 793ms/step - loss: 0.1017 - accuracy: 0.9854 - val_loss: 0.1360 - val_accuracy: 0.9561\n"
     ]
    },
    {
     "data": {
      "text/plain": [
       "<tensorflow.python.keras.callbacks.History at 0x7fc60fea9b50>"
      ]
     },
     "execution_count": 20,
     "metadata": {},
     "output_type": "execute_result"
    }
   ],
   "source": [
    "model = build_model(dense_units=256)\n",
    "model.compile(\n",
    "    optimizer='sgd',\n",
    "    loss='sparse_categorical_crossentropy', \n",
    "    metrics=['accuracy'])\n",
    "  \n",
    "model.fit(train_batches, \n",
    "          epochs=50, \n",
    "          validation_data=validation_batches, \n",
    "          callbacks=[ReduceLROnPlateau(monitor='val_loss', \n",
    "                                       factor=0.2, verbose=1,\n",
    "                                       patience=1, min_lr=0.001),\n",
    "                     TensorBoard(log_dir='./log_dir')])"
   ]
  },
  {
   "cell_type": "code",
   "execution_count": 21,
   "metadata": {
    "colab": {},
    "colab_type": "code",
    "id": "isfTWP4NYudk"
   },
   "outputs": [
    {
     "data": {
      "text/plain": [
       "Reusing TensorBoard on port 6007 (pid 4750), started 0:16:59 ago. (Use '!kill 4750' to kill it.)"
      ]
     },
     "metadata": {},
     "output_type": "display_data"
    },
    {
     "data": {
      "text/html": [
       "\n",
       "      <iframe id=\"tensorboard-frame-7be9d72afa11c05f\" width=\"100%\" height=\"800\" frameborder=\"0\">\n",
       "      </iframe>\n",
       "      <script>\n",
       "        (function() {\n",
       "          const frame = document.getElementById(\"tensorboard-frame-7be9d72afa11c05f\");\n",
       "          const url = new URL(\"/\", window.location);\n",
       "          url.port = 6007;\n",
       "          frame.src = url;\n",
       "        })();\n",
       "      </script>\n",
       "  "
      ],
      "text/plain": [
       "<IPython.core.display.HTML object>"
      ]
     },
     "metadata": {},
     "output_type": "display_data"
    }
   ],
   "source": [
    "%tensorboard --logdir log_dir"
   ]
  },
  {
   "cell_type": "code",
   "execution_count": null,
   "metadata": {},
   "outputs": [],
   "source": []
  }
 ],
 "metadata": {
  "colab": {
   "collapsed_sections": [],
   "include_colab_link": true,
   "name": "ExploringCallbacks.ipynb",
   "provenance": []
  },
  "kernelspec": {
   "display_name": "Python 3",
   "language": "python",
   "name": "python3"
  },
  "language_info": {
   "codemirror_mode": {
    "name": "ipython",
    "version": 3
   },
   "file_extension": ".py",
   "mimetype": "text/x-python",
   "name": "python",
   "nbconvert_exporter": "python",
   "pygments_lexer": "ipython3",
   "version": "3.7.6"
  }
 },
 "nbformat": 4,
 "nbformat_minor": 4
}
